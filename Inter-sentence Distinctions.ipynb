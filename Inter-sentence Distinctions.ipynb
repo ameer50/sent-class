{
 "cells": [
  {
   "cell_type": "code",
   "execution_count": 110,
   "metadata": {
    "collapsed": true
   },
   "outputs": [],
   "source": [
    "from collections import defaultdict\n",
    "import numpy as np\n",
    "import time, math, nltk, gensim, string\n",
    "from gensim.models.keyedvectors import KeyedVectors\n",
    "\n",
    "from sklearn.decomposition import TruncatedSVD\n",
    "from nltk import word_tokenize\n"
   ]
  },
  {
   "cell_type": "code",
   "execution_count": 111,
   "metadata": {},
   "outputs": [
    {
     "name": "stdout",
     "output_type": "stream",
     "text": [
      "elapsed 29.252476930618286s\n"
     ]
    }
   ],
   "source": [
    "path = \"glove.6B.50d.txt.w2v\"\n",
    "t0 = time.time()\n",
    "glove = KeyedVectors.load_word2vec_format(path, binary=False)\n",
    "t1 = time.time()\n",
    "print(\"elapsed \" + str(t1 - t0) + \"s\")"
   ]
  },
  {
   "cell_type": "code",
   "execution_count": 112,
   "metadata": {},
   "outputs": [
    {
     "name": "stdout",
     "output_type": "stream",
     "text": [
      "elapsed 31.28763699531555s\n"
     ]
    }
   ],
   "source": [
    "path = \"glove.6B.50d.txt.w2v\"\n",
    "t0 = time.time()\n",
    "glove = KeyedVectors.load_word2vec_format(path, binary=False)\n",
    "t1 = time.time()\n",
    "print(\"elapsed \" + str(t1 - t0) + \"s\")"
   ]
  },
  {
   "cell_type": "code",
   "execution_count": 192,
   "metadata": {},
   "outputs": [
    {
     "data": {
      "text/plain": [
       "[('tables', 0.817743718624115),\n",
       " ('place', 0.7994711995124817),\n",
       " ('sit', 0.7571903467178345),\n",
       " ('set', 0.7330495715141296),\n",
       " ('open', 0.7316288948059082),\n",
       " ('hold', 0.730669379234314),\n",
       " ('here', 0.7287872433662415),\n",
       " ('each', 0.7207204103469849),\n",
       " ('bottom', 0.7166720032691956),\n",
       " ('top', 0.7153381109237671)]"
      ]
     },
     "execution_count": 192,
     "metadata": {},
     "output_type": "execute_result"
    }
   ],
   "source": [
    "glove.wv.most_similar(\"table\")"
   ]
  },
  {
   "cell_type": "code",
   "execution_count": 8,
   "metadata": {
    "collapsed": true
   },
   "outputs": [],
   "source": [
    "svd = TruncatedSVD(n_components=2)"
   ]
  },
  {
   "cell_type": "code",
   "execution_count": 10,
   "metadata": {},
   "outputs": [
    {
     "name": "stdout",
     "output_type": "stream",
     "text": [
      "160000000\n"
     ]
    }
   ],
   "source": [
    "n = len(glove.vocab)\n",
    "d = glove.vector_size\n",
    "X_glove = np.zeros((n, d))\n",
    "for i, word in enumerate(glove.vocab.keys()):\n",
    "    X_glove[i,:] = glove.wv[word]\n",
    "print(X_glove.nbytes)"
   ]
  },
  {
   "cell_type": "code",
   "execution_count": 11,
   "metadata": {},
   "outputs": [
    {
     "name": "stdout",
     "output_type": "stream",
     "text": [
      "elapsed 2.3836846351623535s\n"
     ]
    }
   ],
   "source": [
    "t0 = time.time()\n",
    "svd = TruncatedSVD(n_components=2)\n",
    "svd.fit(X_glove)\n",
    "t1 = time.time()\n",
    "print(\"elapsed \" + str(t1 - t0) + \"s\")"
   ]
  },
  {
   "cell_type": "code",
   "execution_count": 49,
   "metadata": {
    "collapsed": true
   },
   "outputs": [],
   "source": [
    "def the_threshold():\n",
    "    \n",
    "    \n",
    "    str1 = input(\"Enter the first sentence: \")\n",
    "    \n",
    "    \n",
    "    vector1 = glove.wv[str1]\n",
    "    \n",
    "    str2 = input(\"Enter the second sentence: \")\n",
    "    vector2 = glove.wv[str2]\n",
    "    diff = vector1 - vector2\n",
    "\n",
    "    thresh = math.sqrt(abs(np.sum(diff))*21)\n",
    "    \n",
    "    \n",
    "    return thresh"
   ]
  },
  {
   "cell_type": "code",
   "execution_count": 50,
   "metadata": {},
   "outputs": [
    {
     "name": "stdout",
     "output_type": "stream",
     "text": [
      "Enter the first word: cheap\n",
      "Enter the second word: discount\n"
     ]
    },
    {
     "data": {
      "text/plain": [
       "10.023405840638635"
      ]
     },
     "execution_count": 50,
     "metadata": {},
     "output_type": "execute_result"
    }
   ],
   "source": [
    "the_threshold()"
   ]
  },
  {
   "cell_type": "code",
   "execution_count": 63,
   "metadata": {
    "collapsed": true
   },
   "outputs": [],
   "source": [
    "def the_sent_threshold():\n",
    "    \n",
    "    str1 = input(\"Enter the first sentence: \")\n",
    "    \n",
    "    list1 = nltk.word_tokenize(str1)\n",
    "    \n",
    "    vector1list = []\n",
    "    \n",
    "    for word in list1:\n",
    "        \n",
    "        vector1list.append(glove.wv[word])\n",
    "        \n",
    "        \n",
    "    vector1_array = np.array(vector1list)\n",
    "    \n",
    "    str2 = input(\"Enter the second sentence: \")\n",
    "    \n",
    "    list2 = nltk.word_tokenize(str2)\n",
    "    \n",
    "    vector2list = []\n",
    "    \n",
    "    for word in list2:\n",
    "        \n",
    "        vector2list.append(glove.wv[word])\n",
    "        \n",
    "        \n",
    "    vector2_array = np.array(vector2list)\n",
    "    \n",
    "    diff = vector1_array - vector2_array\n",
    "    \n",
    "    \n",
    "    \n",
    "    thresh = math.sqrt(abs(np.sum(diff))*21)\n",
    "    \n",
    "    \n",
    "    return thresh"
   ]
  },
  {
   "cell_type": "code",
   "execution_count": 64,
   "metadata": {},
   "outputs": [
    {
     "name": "stdout",
     "output_type": "stream",
     "text": [
      "Enter the first sentence: i am hungry\n",
      "Enter the second sentence: bob is hungry\n"
     ]
    },
    {
     "data": {
      "text/plain": [
       "16.609371267840448"
      ]
     },
     "execution_count": 64,
     "metadata": {},
     "output_type": "execute_result"
    }
   ],
   "source": [
    "the_sent_threshold()"
   ]
  },
  {
   "cell_type": "code",
   "execution_count": 65,
   "metadata": {},
   "outputs": [
    {
     "name": "stdout",
     "output_type": "stream",
     "text": [
      "Enter the first sentence: i am tired\n",
      "Enter the second sentence: i am hungry\n"
     ]
    },
    {
     "data": {
      "text/plain": [
       "8.228929445412762"
      ]
     },
     "execution_count": 65,
     "metadata": {},
     "output_type": "execute_result"
    }
   ],
   "source": [
    "the_sent_threshold()"
   ]
  },
  {
   "cell_type": "code",
   "execution_count": 66,
   "metadata": {},
   "outputs": [
    {
     "name": "stdout",
     "output_type": "stream",
     "text": [
      "Enter the first sentence: i am tired\n",
      "Enter the second sentence: i am sleepy\n"
     ]
    },
    {
     "data": {
      "text/plain": [
       "7.445069668343312"
      ]
     },
     "execution_count": 66,
     "metadata": {},
     "output_type": "execute_result"
    }
   ],
   "source": [
    "the_sent_threshold()"
   ]
  },
  {
   "cell_type": "code",
   "execution_count": 70,
   "metadata": {},
   "outputs": [
    {
     "name": "stdout",
     "output_type": "stream",
     "text": [
      "Enter the first sentence: my router is not working properly\n",
      "Enter the second sentence: i want to purchase a plan\n"
     ]
    },
    {
     "data": {
      "text/plain": [
       "22.483849005680266"
      ]
     },
     "execution_count": 70,
     "metadata": {},
     "output_type": "execute_result"
    }
   ],
   "source": [
    "the_sent_threshold()"
   ]
  },
  {
   "cell_type": "code",
   "execution_count": 105,
   "metadata": {},
   "outputs": [
    {
     "name": "stdout",
     "output_type": "stream",
     "text": [
      "Enter the first sentence: my router is not working\n",
      "Enter the second sentence: my router is not working properly\n"
     ]
    },
    {
     "ename": "ValueError",
     "evalue": "operands could not be broadcast together with shapes (5,50) (6,50) ",
     "output_type": "error",
     "traceback": [
      "\u001b[1;31m---------------------------------------------------------------------------\u001b[0m",
      "\u001b[1;31mValueError\u001b[0m                                Traceback (most recent call last)",
      "\u001b[1;32m<ipython-input-105-6ddda6ad83fa>\u001b[0m in \u001b[0;36m<module>\u001b[1;34m()\u001b[0m\n\u001b[1;32m----> 1\u001b[1;33m \u001b[0mthe_sent_threshold\u001b[0m\u001b[1;33m(\u001b[0m\u001b[1;33m)\u001b[0m\u001b[1;33m\u001b[0m\u001b[0m\n\u001b[0m",
      "\u001b[1;32m<ipython-input-63-34f9d45c7dd2>\u001b[0m in \u001b[0;36mthe_sent_threshold\u001b[1;34m()\u001b[0m\n\u001b[0;32m     27\u001b[0m     \u001b[0mvector2_array\u001b[0m \u001b[1;33m=\u001b[0m \u001b[0mnp\u001b[0m\u001b[1;33m.\u001b[0m\u001b[0marray\u001b[0m\u001b[1;33m(\u001b[0m\u001b[0mvector2list\u001b[0m\u001b[1;33m)\u001b[0m\u001b[1;33m\u001b[0m\u001b[0m\n\u001b[0;32m     28\u001b[0m \u001b[1;33m\u001b[0m\u001b[0m\n\u001b[1;32m---> 29\u001b[1;33m     \u001b[0mdiff\u001b[0m \u001b[1;33m=\u001b[0m \u001b[0mvector1_array\u001b[0m \u001b[1;33m-\u001b[0m \u001b[0mvector2_array\u001b[0m\u001b[1;33m\u001b[0m\u001b[0m\n\u001b[0m\u001b[0;32m     30\u001b[0m \u001b[1;33m\u001b[0m\u001b[0m\n\u001b[0;32m     31\u001b[0m \u001b[1;33m\u001b[0m\u001b[0m\n",
      "\u001b[1;31mValueError\u001b[0m: operands could not be broadcast together with shapes (5,50) (6,50) "
     ]
    }
   ],
   "source": [
    "the_sent_threshold()"
   ]
  },
  {
   "cell_type": "code",
   "execution_count": 186,
   "metadata": {},
   "outputs": [
    {
     "name": "stdout",
     "output_type": "stream",
     "text": [
      "Enter the first sentence: i am moving to a new apartment but want to keep my services\n",
      "Enter the second sentence: can i simply move my router to the new apartment and self install\n"
     ]
    },
    {
     "data": {
      "text/plain": [
       "2.765518445047413"
      ]
     },
     "execution_count": 186,
     "metadata": {},
     "output_type": "execute_result"
    }
   ],
   "source": [
    "the_sent_threshold()"
   ]
  },
  {
   "cell_type": "code",
   "execution_count": 95,
   "metadata": {
    "collapsed": true
   },
   "outputs": [],
   "source": [
    "def tokenize(text, preserve_case=True, filter_text=True, stopwords=None, punc=string.punctuation):\n",
    "    if filter_text and stopwords is None:\n",
    "        with open(\"stopwords.txt\", 'r') as r:\n",
    "            stops = []\n",
    "            for line in r:\n",
    "                stops += [i.strip() for i in line.split('\\t')]\n",
    "    stopwords = stops\n",
    "    tokens = word_tokenize(text)\n",
    "    indices = []\n",
    "    if filter_text:\n",
    "        for i in range(len(tokens)):\n",
    "            word = tokens[i]\n",
    "            # print(word, word in punc, word.lower() in stopwords)\n",
    "            if word in punc or word.lower() in stopwords:\n",
    "                indices.append(i)\n",
    "        tokens = list(np.delete(np.array(tokens), np.array(indices)))\n",
    "    if preserve_case:\n",
    "        return tokens\n",
    "    return [i.lower() for i in a]"
   ]
  },
  {
   "cell_type": "code",
   "execution_count": 187,
   "metadata": {
    "collapsed": true
   },
   "outputs": [],
   "source": [
    "def sent_threshold1():\n",
    "    \n",
    "    str1 = input(\"Enter the first sentence: \")\n",
    "    \n",
    "    list1 = tokenize(str1)\n",
    "    \n",
    "    vector1list = []\n",
    "    \n",
    "    for word in list1:\n",
    "        \n",
    "        vector1list.append(glove.wv[word])\n",
    "        \n",
    "        \n",
    "    vector1_array = np.array(vector1list)\n",
    "    \n",
    "    str2 = input(\"Enter the second sentence: \")\n",
    "    \n",
    "    list2 = tokenize(str2)\n",
    "    \n",
    "    vector2list = []\n",
    "    \n",
    "    for word in list2:\n",
    "        \n",
    "        vector2list.append(glove.wv[word])\n",
    "        \n",
    "        \n",
    "    vector2_array = np.array(vector2list)\n",
    "    \n",
    "    \n",
    "    dim1 = vector1_array.shape[0]\n",
    "    dim2 = vector2_array.shape[0]\n",
    "    \n",
    "    if dim1 > dim2 :\n",
    "        \n",
    "        diff = dim1 - dim2\n",
    "        \n",
    "        for i in range(diff):\n",
    "            arr = np.mean(vector2_array,axis=0)\n",
    "            \n",
    "            vector2_array = np.vstack([vector2_array,arr])\n",
    "            \n",
    "    if dim2 > dim1 :\n",
    "        \n",
    "        diff = dim2 - dim1\n",
    "        \n",
    "        for i in range(diff):\n",
    "            arr = np.mean(vector1_array,axis=0)\n",
    "            \n",
    "            vector1_array = np.vstack([vector1_array,arr])\n",
    "            \n",
    "    \n",
    "    diff = vector1_array - vector2_array\n",
    "    \n",
    "    \n",
    "    \n",
    "    thresh = math.sqrt(abs(np.sum(diff))*21)\n",
    "    \n",
    "    \n",
    "    return thresh"
   ]
  },
  {
   "cell_type": "code",
   "execution_count": 184,
   "metadata": {},
   "outputs": [
    {
     "name": "stdout",
     "output_type": "stream",
     "text": [
      "Enter the first sentence: i am moving to a new apartment but want to keep my services\n",
      "Enter the second sentence: can I simply move my router to the new apartment and self install?\n"
     ]
    },
    {
     "data": {
      "text/plain": [
       "15.360468609660591"
      ]
     },
     "execution_count": 184,
     "metadata": {},
     "output_type": "execute_result"
    }
   ],
   "source": [
    "sent_threshold1()"
   ]
  },
  {
   "cell_type": "code",
   "execution_count": 188,
   "metadata": {},
   "outputs": [
    {
     "name": "stdout",
     "output_type": "stream",
     "text": [
      "Enter the first sentence: i am moving to a new apartment but want to keep my services\n",
      "Enter the second sentence: can I simply move my router to the new apartment and self install?\n"
     ]
    },
    {
     "data": {
      "text/plain": [
       "9.612487288963932"
      ]
     },
     "execution_count": 188,
     "metadata": {},
     "output_type": "execute_result"
    }
   ],
   "source": [
    "sent_threshold1()"
   ]
  },
  {
   "cell_type": "code",
   "execution_count": 190,
   "metadata": {},
   "outputs": [
    {
     "name": "stdout",
     "output_type": "stream",
     "text": [
      "Enter the first sentence: i called and i forgot my password\n",
      "Enter the second sentence: she said to go on internet and create a new password and i am having problems\n"
     ]
    },
    {
     "data": {
      "text/plain": [
       "12.081642181614445"
      ]
     },
     "execution_count": 190,
     "metadata": {},
     "output_type": "execute_result"
    }
   ],
   "source": [
    "sent_threshold1()"
   ]
  },
  {
   "cell_type": "code",
   "execution_count": 191,
   "metadata": {},
   "outputs": [
    {
     "name": "stdout",
     "output_type": "stream",
     "text": [
      "Enter the first sentence: why is anything i watch very pixelated and every video buffer even when only one device is using the wifi\n",
      "Enter the second sentence: i called company and i forgot my password\n"
     ]
    },
    {
     "data": {
      "text/plain": [
       "16.905288640750847"
      ]
     },
     "execution_count": 191,
     "metadata": {},
     "output_type": "execute_result"
    }
   ],
   "source": [
    "sent_threshold1()"
   ]
  },
  {
   "cell_type": "code",
   "execution_count": 179,
   "metadata": {},
   "outputs": [
    {
     "name": "stdout",
     "output_type": "stream",
     "text": [
      "ROUTER PROBLEMS\n"
     ]
    }
   ],
   "source": []
  },
  {
   "cell_type": "code",
   "execution_count": null,
   "metadata": {
    "collapsed": true
   },
   "outputs": [],
   "source": []
  }
 ],
 "metadata": {
  "kernelspec": {
   "display_name": "Python 3",
   "language": "python",
   "name": "python3"
  },
  "language_info": {
   "codemirror_mode": {
    "name": "ipython",
    "version": 3
   },
   "file_extension": ".py",
   "mimetype": "text/x-python",
   "name": "python",
   "nbconvert_exporter": "python",
   "pygments_lexer": "ipython3",
   "version": "3.6.1"
  }
 },
 "nbformat": 4,
 "nbformat_minor": 2
}
